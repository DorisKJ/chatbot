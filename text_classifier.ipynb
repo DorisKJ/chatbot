{
 "cells": [
  {
   "cell_type": "code",
   "execution_count": 1,
   "id": "a51bfe43",
   "metadata": {},
   "outputs": [
    {
     "name": "stdout",
     "output_type": "stream",
     "text": [
      "WARNING:tensorflow:From /opt/anaconda3/lib/python3.9/site-packages/tensorflow/python/compat/v2_compat.py:107: disable_resource_variables (from tensorflow.python.ops.variable_scope) is deprecated and will be removed in a future version.\n",
      "Instructions for updating:\n",
      "non-resource variables are not supported in the long term\n"
     ]
    }
   ],
   "source": [
    "import json\n",
    "import string\n",
    "import nltk\n",
    "from nltk.corpus import stopwords\n",
    "from nltk.stem import WordNetLemmatizer\n",
    "from sklearn.feature_extraction.text import CountVectorizer\n",
    "#import random\n",
    "import numpy as np\n",
    "import pickle\n",
    "import tflearn\n",
    "import tensorflow.compat.v1 as tf\n",
    "from tensorflow import keras\n",
    "from tensorflow.keras.layers import Dense, Input, Dropout, Activation \n",
    "from tensorflow.keras.models import Sequential\n",
    "from tensorflow.keras.utils import to_categorical"
   ]
  },
  {
   "cell_type": "markdown",
   "id": "a597a09c",
   "metadata": {},
   "source": [
    "## Language understanding "
   ]
  },
  {
   "cell_type": "markdown",
   "id": "cb0f82cd",
   "metadata": {},
   "source": [
    "### Load data"
   ]
  },
  {
   "cell_type": "code",
   "execution_count": 2,
   "id": "a40216cf",
   "metadata": {},
   "outputs": [
    {
     "name": "stdout",
     "output_type": "stream",
     "text": [
      "['Hi there', 'How are you', 'Is anyone there?', 'Hello', 'Good day', 'Bye', 'See you later', 'Goodbye', 'Nice chatting to you, bye', 'Till next time', 'Thanks', 'Thank you', \"That's helpful\", 'Awesome, thanks', 'Thanks for helping me', 'How you could help me?', 'What you can do?', 'What help you provide?', 'How you can be helpful?', 'What support is offered', 'How to check Adverse drug reaction?', 'Open adverse drugs module', 'Give me a list of drugs causing adverse behavior', 'List all drugs suitable for patient with adverse reaction', 'Which drugs dont have adverse reaction?', 'Open blood pressure module', 'Task related to blood pressure', 'Blood pressure data entry', 'I want to log blood pressure results', 'Blood pressure data management', 'I want to search for blood pressure result history', 'Blood pressure for patient', 'Load patient blood pressure result', 'Show blood pressure results for patient', 'Find blood pressure results by ID', 'Find me a pharmacy', 'Find pharmacy', 'List of pharmacies nearby', 'Locate pharmacy', 'Search pharmacy', 'Lookup for hospital', 'Searching for hospital to transfer patient', 'I want to search hospital data', 'Hospital lookup for patient', 'Looking up hospital details']\n",
      "['greeting', 'greeting', 'greeting', 'greeting', 'greeting', 'goodbye', 'goodbye', 'goodbye', 'goodbye', 'goodbye', 'thanks', 'thanks', 'thanks', 'thanks', 'thanks', 'options', 'options', 'options', 'options', 'options', 'adverse_drug', 'adverse_drug', 'adverse_drug', 'adverse_drug', 'adverse_drug', 'blood_pressure', 'blood_pressure', 'blood_pressure', 'blood_pressure', 'blood_pressure', 'blood_pressure_search', 'blood_pressure_search', 'blood_pressure_search', 'blood_pressure_search', 'blood_pressure_search', 'pharmacy_search', 'pharmacy_search', 'pharmacy_search', 'pharmacy_search', 'pharmacy_search', 'hospital_search', 'hospital_search', 'hospital_search', 'hospital_search', 'hospital_search']\n"
     ]
    }
   ],
   "source": [
    "# Reading the data file and axetracting the training data\n",
    "f = open(\"intents.json\")\n",
    "file = json.loads(f.read())\n",
    "\n",
    "text = []\n",
    "label = []\n",
    "\n",
    "for item in file['intents']:\n",
    "    for text_id in item['patterns']:\n",
    "        text.append(text_id) \n",
    "        label.append(item['tag'])\n",
    "    #if file['tag'] not in label:\n",
    "          #  label.append(file['tag'])\n",
    "\n",
    "print(text)\n",
    "print(label)"
   ]
  },
  {
   "cell_type": "markdown",
   "id": "21749392",
   "metadata": {},
   "source": [
    "### Data Pre-processing "
   ]
  },
  {
   "cell_type": "code",
   "execution_count": 3,
   "id": "6c4b1f71",
   "metadata": {},
   "outputs": [
    {
     "data": {
      "text/plain": [
       "'size = int(len(text)*0.8)\\nsplit_text = [text[i:i + size] for i in range(0, len(text), size)]\\nsplit_label = [label[i:i + size] for i in range(0, len(text), size)]\\n\\ntrain_text_data = split_text[0]\\ntest_text_data = split_text[1]\\ntrain_label_data = split_label[0]\\ntest_label_data = split_label[1]'"
      ]
     },
     "execution_count": 3,
     "metadata": {},
     "output_type": "execute_result"
    }
   ],
   "source": [
    "#dividing the data into training and testintg data by a ratio of 80:20\n",
    "'''size = int(len(text)*0.8)\n",
    "split_text = [text[i:i + size] for i in range(0, len(text), size)]\n",
    "split_label = [label[i:i + size] for i in range(0, len(text), size)]\n",
    "\n",
    "train_text_data = split_text[0]\n",
    "test_text_data = split_text[1]\n",
    "train_label_data = split_label[0]\n",
    "test_label_data = split_label[1]'''"
   ]
  },
  {
   "cell_type": "code",
   "execution_count": 4,
   "id": "561480c1",
   "metadata": {},
   "outputs": [
    {
     "name": "stdout",
     "output_type": "stream",
     "text": [
      "82\n"
     ]
    }
   ],
   "source": [
    "# vectorizing\n",
    "words = []\n",
    "new_sentences = []\n",
    "\n",
    "lemmatizer = WordNetLemmatizer()\n",
    "for sentence in text:\n",
    "    word = nltk.word_tokenize(sentence.lower())\n",
    "    lemmatized_output = ' '.join([lemmatizer.lemmatize(w) for w in word])\n",
    "    words.extend(word)\n",
    "    new_sentences.append(lemmatized_output)\n",
    "    \n",
    "vectorizer = CountVectorizer()\n",
    "vectorizer.fit(new_sentences)\n",
    "#print(vectorizer.vocabulary_)\n",
    "train_text = vectorizer.transform(new_sentences)\n",
    "train_text = train_text.toarray()\n",
    "\n",
    "train_label = vectorizer.transform(label)\n",
    "train_label = train_label.toarray()\n",
    "#print(vectorizer2.vocabulary_)\n",
    "#words = sorted(list(set(words)))\n",
    "print(len(train_text[0]))"
   ]
  },
  {
   "cell_type": "markdown",
   "id": "dd669ef1",
   "metadata": {},
   "source": [
    "### Model"
   ]
  },
  {
   "cell_type": "code",
   "execution_count": 5,
   "id": "04a0c391",
   "metadata": {},
   "outputs": [
    {
     "name": "stdout",
     "output_type": "stream",
     "text": [
      "Train on 45 samples\n",
      "Epoch 1/100\n",
      "45/45 [==============================] - 0s 1ms/sample - loss: 4.3852 - acc: 0.1556\n",
      "Epoch 2/100\n",
      "45/45 [==============================] - 0s 68us/sample - loss: 3.5261 - acc: 0.7778\n",
      "Epoch 3/100\n",
      "45/45 [==============================] - 0s 77us/sample - loss: 2.2355 - acc: 0.7778\n",
      "Epoch 4/100\n",
      "45/45 [==============================] - 0s 73us/sample - loss: 0.9877 - acc: 0.7778\n",
      "Epoch 5/100\n",
      "45/45 [==============================] - 0s 74us/sample - loss: 0.7807 - acc: 0.7778\n",
      "Epoch 6/100\n",
      "45/45 [==============================] - 0s 78us/sample - loss: 0.6781 - acc: 0.7778\n",
      "Epoch 7/100\n",
      "45/45 [==============================] - 0s 71us/sample - loss: 0.5063 - acc: 0.8000\n",
      "Epoch 8/100\n",
      "45/45 [==============================] - 0s 73us/sample - loss: 0.3235 - acc: 0.8000\n",
      "Epoch 9/100\n",
      "45/45 [==============================] - 0s 81us/sample - loss: 0.3077 - acc: 0.8667\n",
      "Epoch 10/100\n",
      "45/45 [==============================] - 0s 79us/sample - loss: 0.2736 - acc: 0.9556\n",
      "Epoch 11/100\n",
      "45/45 [==============================] - 0s 79us/sample - loss: 0.1775 - acc: 0.9778\n",
      "Epoch 12/100\n",
      "45/45 [==============================] - 0s 73us/sample - loss: 0.1675 - acc: 0.9556\n",
      "Epoch 13/100\n",
      "45/45 [==============================] - 0s 82us/sample - loss: 0.1568 - acc: 0.9111\n",
      "Epoch 14/100\n",
      "45/45 [==============================] - 0s 82us/sample - loss: 0.1002 - acc: 1.0000\n",
      "Epoch 15/100\n",
      "45/45 [==============================] - 0s 75us/sample - loss: 0.0962 - acc: 1.0000\n",
      "Epoch 16/100\n",
      "45/45 [==============================] - 0s 80us/sample - loss: 0.0548 - acc: 1.0000\n",
      "Epoch 17/100\n",
      "45/45 [==============================] - 0s 83us/sample - loss: 0.0403 - acc: 1.0000\n"
     ]
    },
    {
     "name": "stderr",
     "output_type": "stream",
     "text": [
      "2023-06-02 10:27:13.978107: I tensorflow/core/platform/cpu_feature_guard.cc:151] This TensorFlow binary is optimized with oneAPI Deep Neural Network Library (oneDNN) to use the following CPU instructions in performance-critical operations:  AVX2 FMA\n",
      "To enable them in other operations, rebuild TensorFlow with the appropriate compiler flags.\n"
     ]
    },
    {
     "name": "stdout",
     "output_type": "stream",
     "text": [
      "Epoch 18/100\n",
      "45/45 [==============================] - 0s 93us/sample - loss: 0.0394 - acc: 1.0000\n",
      "Epoch 19/100\n",
      "45/45 [==============================] - 0s 93us/sample - loss: 0.0248 - acc: 1.0000\n",
      "Epoch 20/100\n",
      "45/45 [==============================] - 0s 88us/sample - loss: 0.0158 - acc: 1.0000\n",
      "Epoch 21/100\n",
      "45/45 [==============================] - 0s 90us/sample - loss: 0.0062 - acc: 1.0000\n",
      "Epoch 22/100\n",
      "45/45 [==============================] - 0s 98us/sample - loss: 0.0093 - acc: 1.0000\n",
      "Epoch 23/100\n",
      "45/45 [==============================] - 0s 96us/sample - loss: 0.0072 - acc: 1.0000\n",
      "Epoch 24/100\n",
      "45/45 [==============================] - 0s 102us/sample - loss: 0.0053 - acc: 1.0000\n",
      "Epoch 25/100\n",
      "45/45 [==============================] - 0s 84us/sample - loss: 0.0014 - acc: 1.0000\n",
      "Epoch 26/100\n",
      "45/45 [==============================] - 0s 105us/sample - loss: 0.0043 - acc: 1.0000\n",
      "Epoch 27/100\n",
      "45/45 [==============================] - 0s 100us/sample - loss: 0.0030 - acc: 1.0000\n",
      "Epoch 28/100\n",
      "45/45 [==============================] - 0s 91us/sample - loss: 0.0046 - acc: 1.0000\n",
      "Epoch 29/100\n",
      "45/45 [==============================] - 0s 93us/sample - loss: 0.0059 - acc: 1.0000\n",
      "Epoch 30/100\n",
      "45/45 [==============================] - 0s 93us/sample - loss: 0.0021 - acc: 1.0000\n",
      "Epoch 31/100\n",
      "45/45 [==============================] - 0s 81us/sample - loss: 0.0033 - acc: 1.0000\n",
      "Epoch 32/100\n",
      "45/45 [==============================] - 0s 93us/sample - loss: 0.0033 - acc: 1.0000\n",
      "Epoch 33/100\n",
      "45/45 [==============================] - 0s 79us/sample - loss: 0.0012 - acc: 1.0000\n",
      "Epoch 34/100\n",
      "45/45 [==============================] - 0s 80us/sample - loss: 0.0028 - acc: 1.0000\n",
      "Epoch 35/100\n",
      "45/45 [==============================] - 0s 88us/sample - loss: 0.0010 - acc: 1.0000\n",
      "Epoch 36/100\n",
      "45/45 [==============================] - 0s 83us/sample - loss: 4.2334e-04 - acc: 1.0000\n",
      "Epoch 37/100\n",
      "45/45 [==============================] - 0s 89us/sample - loss: 4.2387e-04 - acc: 1.0000\n",
      "Epoch 38/100\n",
      "45/45 [==============================] - 0s 94us/sample - loss: 8.5613e-04 - acc: 1.0000\n",
      "Epoch 39/100\n",
      "45/45 [==============================] - 0s 93us/sample - loss: 7.1938e-04 - acc: 1.0000\n",
      "Epoch 40/100\n",
      "45/45 [==============================] - 0s 113us/sample - loss: 0.0018 - acc: 1.0000\n",
      "Epoch 41/100\n",
      "45/45 [==============================] - 0s 90us/sample - loss: 0.0045 - acc: 1.0000\n",
      "Epoch 42/100\n",
      "45/45 [==============================] - 0s 116us/sample - loss: 3.8056e-04 - acc: 1.0000\n",
      "Epoch 43/100\n",
      "45/45 [==============================] - 0s 104us/sample - loss: 0.0017 - acc: 1.0000\n",
      "Epoch 44/100\n",
      "45/45 [==============================] - 0s 110us/sample - loss: 4.3727e-04 - acc: 1.0000\n",
      "Epoch 45/100\n",
      "45/45 [==============================] - 0s 90us/sample - loss: 0.0011 - acc: 1.0000\n",
      "Epoch 46/100\n",
      "45/45 [==============================] - 0s 109us/sample - loss: 4.2020e-04 - acc: 1.0000\n",
      "Epoch 47/100\n",
      "45/45 [==============================] - 0s 94us/sample - loss: 4.8539e-04 - acc: 1.0000\n",
      "Epoch 48/100\n",
      "45/45 [==============================] - 0s 95us/sample - loss: 6.3319e-04 - acc: 1.0000\n",
      "Epoch 49/100\n",
      "45/45 [==============================] - 0s 122us/sample - loss: 0.0023 - acc: 1.0000\n",
      "Epoch 50/100\n",
      "45/45 [==============================] - 0s 94us/sample - loss: 7.9401e-04 - acc: 1.0000\n",
      "Epoch 51/100\n",
      "45/45 [==============================] - 0s 79us/sample - loss: 7.5775e-04 - acc: 1.0000\n",
      "Epoch 52/100\n",
      "45/45 [==============================] - 0s 91us/sample - loss: 2.7256e-04 - acc: 1.0000\n",
      "Epoch 53/100\n",
      "45/45 [==============================] - 0s 120us/sample - loss: 2.2644e-04 - acc: 1.0000\n",
      "Epoch 54/100\n",
      "45/45 [==============================] - ETA: 0s - loss: 9.4350e-04 - acc: 1.000 - 0s 143us/sample - loss: 6.7357e-04 - acc: 1.0000\n",
      "Epoch 55/100\n",
      "45/45 [==============================] - 0s 112us/sample - loss: 1.1166e-04 - acc: 1.0000\n",
      "Epoch 56/100\n",
      "45/45 [==============================] - 0s 86us/sample - loss: 1.5603e-04 - acc: 1.0000\n",
      "Epoch 57/100\n",
      "45/45 [==============================] - 0s 77us/sample - loss: 0.0015 - acc: 1.0000\n",
      "Epoch 58/100\n",
      "45/45 [==============================] - 0s 96us/sample - loss: 1.0572e-04 - acc: 1.0000\n",
      "Epoch 59/100\n",
      "45/45 [==============================] - 0s 86us/sample - loss: 9.4529e-05 - acc: 1.0000\n",
      "Epoch 60/100\n",
      "45/45 [==============================] - 0s 73us/sample - loss: 1.1195e-04 - acc: 1.0000\n",
      "Epoch 61/100\n",
      "45/45 [==============================] - 0s 67us/sample - loss: 1.0386e-04 - acc: 1.0000\n",
      "Epoch 62/100\n",
      "45/45 [==============================] - 0s 81us/sample - loss: 1.9429e-04 - acc: 1.0000\n",
      "Epoch 63/100\n",
      "45/45 [==============================] - 0s 85us/sample - loss: 2.2650e-04 - acc: 1.0000\n",
      "Epoch 64/100\n",
      "45/45 [==============================] - 0s 86us/sample - loss: 1.8409e-04 - acc: 1.0000\n",
      "Epoch 65/100\n",
      "45/45 [==============================] - 0s 79us/sample - loss: 2.0861e-04 - acc: 1.0000\n",
      "Epoch 66/100\n",
      "45/45 [==============================] - 0s 90us/sample - loss: 2.6926e-04 - acc: 1.0000\n",
      "Epoch 67/100\n",
      "45/45 [==============================] - 0s 75us/sample - loss: 4.4790e-04 - acc: 1.0000\n",
      "Epoch 68/100\n",
      "45/45 [==============================] - 0s 81us/sample - loss: 3.9756e-04 - acc: 1.0000\n",
      "Epoch 69/100\n",
      "45/45 [==============================] - 0s 74us/sample - loss: 8.7972e-04 - acc: 1.0000\n",
      "Epoch 70/100\n",
      "45/45 [==============================] - 0s 74us/sample - loss: 1.6232e-04 - acc: 1.0000\n",
      "Epoch 71/100\n",
      "45/45 [==============================] - 0s 83us/sample - loss: 3.0637e-04 - acc: 1.0000\n",
      "Epoch 72/100\n",
      "45/45 [==============================] - 0s 77us/sample - loss: 9.3986e-05 - acc: 1.0000\n",
      "Epoch 73/100\n",
      "45/45 [==============================] - 0s 66us/sample - loss: 4.0115e-04 - acc: 1.0000\n",
      "Epoch 74/100\n",
      "45/45 [==============================] - 0s 71us/sample - loss: 8.2845e-04 - acc: 1.0000\n",
      "Epoch 75/100\n",
      "45/45 [==============================] - 0s 74us/sample - loss: 7.9733e-04 - acc: 1.0000\n",
      "Epoch 76/100\n",
      "45/45 [==============================] - 0s 90us/sample - loss: 9.4912e-05 - acc: 1.0000\n",
      "Epoch 77/100\n",
      "45/45 [==============================] - 0s 75us/sample - loss: 0.0027 - acc: 1.0000\n",
      "Epoch 78/100\n",
      "45/45 [==============================] - 0s 87us/sample - loss: 0.0020 - acc: 1.0000\n",
      "Epoch 79/100\n",
      "45/45 [==============================] - 0s 66us/sample - loss: 3.2385e-04 - acc: 1.0000\n",
      "Epoch 80/100\n",
      "45/45 [==============================] - 0s 79us/sample - loss: 7.4550e-04 - acc: 1.0000\n",
      "Epoch 81/100\n",
      "45/45 [==============================] - 0s 86us/sample - loss: 1.8345e-04 - acc: 1.0000\n",
      "Epoch 82/100\n",
      "45/45 [==============================] - 0s 67us/sample - loss: 4.4940e-05 - acc: 1.0000\n",
      "Epoch 83/100\n",
      "45/45 [==============================] - 0s 87us/sample - loss: 0.0013 - acc: 1.0000\n",
      "Epoch 84/100\n",
      "45/45 [==============================] - 0s 86us/sample - loss: 5.5045e-05 - acc: 1.0000\n",
      "Epoch 85/100\n",
      "45/45 [==============================] - 0s 75us/sample - loss: 1.2468e-04 - acc: 1.0000\n",
      "Epoch 86/100\n",
      "45/45 [==============================] - 0s 70us/sample - loss: 9.6673e-05 - acc: 1.0000\n",
      "Epoch 87/100\n",
      "45/45 [==============================] - 0s 69us/sample - loss: 1.4471e-04 - acc: 1.0000\n",
      "Epoch 88/100\n",
      "45/45 [==============================] - 0s 97us/sample - loss: 1.9797e-05 - acc: 1.0000\n",
      "Epoch 89/100\n",
      "45/45 [==============================] - 0s 72us/sample - loss: 4.7380e-05 - acc: 1.0000\n",
      "Epoch 90/100\n",
      "45/45 [==============================] - 0s 67us/sample - loss: 5.1895e-04 - acc: 1.0000\n",
      "Epoch 91/100\n",
      "45/45 [==============================] - 0s 77us/sample - loss: 2.5427e-04 - acc: 1.0000\n",
      "Epoch 92/100\n",
      "45/45 [==============================] - 0s 66us/sample - loss: 6.2754e-05 - acc: 1.0000\n",
      "Epoch 93/100\n",
      "45/45 [==============================] - 0s 84us/sample - loss: 3.0124e-04 - acc: 1.0000\n",
      "Epoch 94/100\n",
      "45/45 [==============================] - 0s 88us/sample - loss: 5.2923e-05 - acc: 1.0000\n",
      "Epoch 95/100\n",
      "45/45 [==============================] - 0s 87us/sample - loss: 1.0138e-04 - acc: 1.0000\n",
      "Epoch 96/100\n",
      "45/45 [==============================] - 0s 90us/sample - loss: 0.0020 - acc: 1.0000\n",
      "Epoch 97/100\n",
      "45/45 [==============================] - 0s 85us/sample - loss: 6.9718e-04 - acc: 1.0000\n",
      "Epoch 98/100\n"
     ]
    },
    {
     "name": "stdout",
     "output_type": "stream",
     "text": [
      "45/45 [==============================] - 0s 82us/sample - loss: 6.5152e-04 - acc: 1.0000\n",
      "Epoch 99/100\n",
      "45/45 [==============================] - 0s 85us/sample - loss: 4.4682e-05 - acc: 1.0000\n",
      "Epoch 100/100\n",
      "45/45 [==============================] - 0s 89us/sample - loss: 5.4066e-05 - acc: 1.0000\n"
     ]
    },
    {
     "data": {
      "text/plain": [
       "<keras.callbacks.History at 0x7fc20b069ac0>"
      ]
     },
     "execution_count": 5,
     "metadata": {},
     "output_type": "execute_result"
    }
   ],
   "source": [
    "# The model\n",
    "model = Sequential()\n",
    "model.add(Dense(128, input_shape=(len(train_text[0]),), activation='relu'))\n",
    "model.add(Dropout(0.2))\n",
    "model.add(Dense(64, activation='relu'))\n",
    "model.add(Dropout(0.2))\n",
    "model.add(Dense(len(train_label[0]), activation='softmax'))\n",
    "\n",
    "opt = tf.keras.optimizers.Adam(learning_rate=0.01, decay=1e-6)\n",
    "model.compile(loss='sparse_categorical_crossentropy', optimizer=opt, metrics=['accuracy'])\n",
    "\n",
    "#print(model.summary())\n",
    "train_label = np.argmax(train_label, axis=1)\n",
    "model.fit(train_text, train_label, epochs=100, batch_size=32, verbose=1)\n",
    "\n",
    "#score, acc = model.evaluate(test_text, test_label, batch_size=32)\n",
    "#print(acc)"
   ]
  },
  {
   "cell_type": "markdown",
   "id": "bdb045c1",
   "metadata": {},
   "source": [
    "# Dialog management"
   ]
  },
  {
   "cell_type": "markdown",
   "id": "c0efea1e",
   "metadata": {},
   "source": [
    "### Preprocessing the user input"
   ]
  },
  {
   "cell_type": "code",
   "execution_count": null,
   "id": "80626137",
   "metadata": {},
   "outputs": [
    {
     "name": "stdout",
     "output_type": "stream",
     "text": [
      "You can chat with the bot now!\n",
      "(Enter 'bye to stop')\n",
      "Me:hi\n",
      "Chatty: Hello, thanks for asking\n",
      "Me:How you could help me?\n",
      "Chatty: Hello, thanks for asking\n",
      "Me:"
     ]
    }
   ],
   "source": [
    "def process_tool(sentence):\n",
    "    tokens = nltk.word_tokenize(sentence.lower())\n",
    "    words = [' '.join([lemmatizer.lemmatize(w) for w in tokens])]\n",
    "    sentence_vect = vectorizer.transform(words)\n",
    "    sentence_vect = sentence_vect.toarray()\n",
    "    return sentence_vect\n",
    "\n",
    "      #get the label for a given text\n",
    "    \n",
    "    index = labels[ind]\n",
    "    return index\n",
    "\n",
    "def response(intent, data):\n",
    "    if intent.lower() == \"bye\":\n",
    "        print(\"See you next time.\")\n",
    "    else:\n",
    "        for info in data[\"intents\"]:\n",
    "            if info['tag'] == intent[0]:\n",
    "                print(\"Chatty:\", random.choice(info['responses']))\n",
    "            break\n",
    "    return reply\n",
    "\n",
    "def response():\n",
    "    while True:\n",
    "        print(\"Me:\", end=\"\")\n",
    "        msg = input()\n",
    "        if msg.lower() == \"bye\":\n",
    "            print(\"Chatty:\", \"See you next time.\")\n",
    "            break\n",
    "            \n",
    "        prediction = model.predict([process_tool(msg)])[0]\n",
    "        ind = np.argmax(prediction)\n",
    "        index = label[ind]\n",
    "            \n",
    "        for info in file[\"intents\"]:\n",
    "            if info['tag'] == index:\n",
    "                print(\"Chatty:\", np.random.choice(info['responses']))\n",
    "\n",
    "print(\"You can chat with the bot now!\")\n",
    "print(\"(Enter 'bye to stop')\")\n",
    "\n",
    "response()"
   ]
  },
  {
   "cell_type": "code",
   "execution_count": null,
   "id": "2f842787",
   "metadata": {},
   "outputs": [],
   "source": []
  }
 ],
 "metadata": {
  "kernelspec": {
   "display_name": "Python 3 (ipykernel)",
   "language": "python",
   "name": "python3"
  },
  "language_info": {
   "codemirror_mode": {
    "name": "ipython",
    "version": 3
   },
   "file_extension": ".py",
   "mimetype": "text/x-python",
   "name": "python",
   "nbconvert_exporter": "python",
   "pygments_lexer": "ipython3",
   "version": "3.9.7"
  }
 },
 "nbformat": 4,
 "nbformat_minor": 5
}
